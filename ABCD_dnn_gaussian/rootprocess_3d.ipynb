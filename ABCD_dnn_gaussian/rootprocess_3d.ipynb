{
 "cells": [
  {
   "cell_type": "code",
   "execution_count": 14,
   "metadata": {},
   "outputs": [],
   "source": [
    "import uproot\n",
    "import awkward as ak\n",
    "import numpy as np\n",
    "import matplotlib.pyplot as plt\n",
    "from matplotlib import colors"
   ]
  },
  {
   "cell_type": "code",
   "execution_count": 15,
   "metadata": {},
   "outputs": [],
   "source": [
    "data = uproot.open('data/ttjjresult.root')"
   ]
  },
  {
   "cell_type": "code",
   "execution_count": 16,
   "metadata": {},
   "outputs": [],
   "source": [
    "events = data['mytree']"
   ]
  },
  {
   "cell_type": "code",
   "execution_count": 17,
   "metadata": {},
   "outputs": [
    {
     "data": {
      "text/plain": [
       "['nbtag', 'njet', 'ht', 'met', 'pt5', 'pt6']"
      ]
     },
     "execution_count": 17,
     "metadata": {},
     "output_type": "execute_result"
    }
   ],
   "source": [
    "events.keys()"
   ]
  },
  {
   "cell_type": "code",
   "execution_count": 18,
   "metadata": {},
   "outputs": [],
   "source": [
    "njet, ht, pt6 = events.arrays(['njet', 'ht', 'pt6'], library='np', how=tuple) #can also choose different variable"
   ]
  },
  {
   "cell_type": "code",
   "execution_count": 19,
   "metadata": {},
   "outputs": [],
   "source": [
    "htcut = [700, 2000] #define region of interest\n",
    "pt6cut = [40, 100]\n",
    "\n",
    "binsize = 6\n",
    "htbin = np.linspace(*htcut, binsize+1) #define appropriate bin size\n",
    "ptbin = np.linspace(*pt6cut, binsize+1)"
   ]
  },
  {
   "cell_type": "code",
   "execution_count": 20,
   "metadata": {},
   "outputs": [
    {
     "data": {
      "image/png": "[encoded data removed]",
      "text/plain": [
       "<Figure size 1440x216 with 6 Axes>"
      ]
     },
     "metadata": {
      "needs_background": "light"
     },
     "output_type": "display_data"
    }
   ],
   "source": [
    "fig,ax = plt.subplots(1, 6, figsize=(20, 3))\n",
    "\n",
    "for njetcut in np.arange(6, 12):\n",
    "    \n",
    "    total_region = (ht>htcut[0])&(ht<htcut[1])&(pt6>pt6cut[0])&(pt6<pt6cut[1])&(njet>njetcut)&(njet<njetcut+2)\n",
    "    ax[njetcut-6].hist2d(ht[total_region], pt6[total_region], norm=colors.LogNorm(vmax = 5e03), bins=[htbin,ptbin])[0]"
   ]
  },
  {
   "cell_type": "code",
   "execution_count": 23,
   "metadata": {},
   "outputs": [
    {
     "data": {
      "image/png": "[encoded data removed]",
      "text/plain": [
       "<Figure size 432x288 with 1 Axes>"
      ]
     },
     "metadata": {
      "needs_background": "light"
     },
     "output_type": "display_data"
    }
   ],
   "source": [
    "crlist = np.array([])\n",
    "for njetcut in np.arange(6, 12):\n",
    "    \n",
    "    ht_norm = np.linspace(0,1,binsize)\n",
    "    pt_norm = np.linspace(0,1,binsize)\n",
    "    ptgrid, htgrid = np.meshgrid(pt_norm, ht_norm)\n",
    "    njetgrid = np.full(ptgrid.shape, (njetcut-6)/5)\n",
    "    \n",
    "    total_region = (ht>htcut[0])&(ht<htcut[1])&(pt6>pt6cut[0])&(pt6<pt6cut[1])&(njet>njetcut)&(njet<njetcut+2)\n",
    "    grid = plt.hist2d(ht[total_region], pt6[total_region], norm=colors.LogNorm(), bins=[htbin,ptbin])\n",
    "    arr = np.array([njetgrid, ptgrid, htgrid, grid[0]]).T\n",
    "    \n",
    "    crlist = np.append(crlist, arr).reshape((-1, 4))"
   ]
  },
  {
   "cell_type": "code",
   "execution_count": null,
   "metadata": {},
   "outputs": [],
   "source": [
    "crlist"
   ]
  },
  {
   "cell_type": "code",
   "execution_count": 101,
   "metadata": {},
   "outputs": [],
   "source": [
    "np.save('data/htpt_3d_40to100', crlist) #save histogram"
   ]
  },
  {
   "cell_type": "code",
   "execution_count": null,
   "metadata": {},
   "outputs": [],
   "source": []
  }
 ],
 "metadata": {
  "kernelspec": {
   "display_name": "pyROOT",
   "language": "python",
   "name": "yhs07128_pyroot"
  },
  "language_info": {
   "codemirror_mode": {
    "name": "ipython",
    "version": 3
   },
   "file_extension": ".py",
   "mimetype": "text/x-python",
   "name": "python",
   "nbconvert_exporter": "python",
   "pygments_lexer": "ipython3",
   "version": "3.9.2"
  }
 },
 "nbformat": 4,
 "nbformat_minor": 4
}
